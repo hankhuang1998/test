{
  "nbformat": 4,
  "nbformat_minor": 0,
  "metadata": {
    "colab": {
      "name": "news.ipynb",
      "provenance": [],
      "mount_file_id": "1kxzuhe1UA398Pf-q82bgEZ4IYWEo1yEJ",
      "authorship_tag": "ABX9TyNfO/vla3YuWjI4oNQpGDWd",
      "include_colab_link": true
    },
    "kernelspec": {
      "name": "python3",
      "display_name": "Python 3"
    }
  },
  "cells": [
    {
      "cell_type": "markdown",
      "metadata": {
        "id": "view-in-github",
        "colab_type": "text"
      },
      "source": [
        "<a href=\"https://colab.research.google.com/github/hankhuang1998/test/blob/main/news.ipynb\" target=\"_parent\"><img src=\"https://colab.research.google.com/assets/colab-badge.svg\" alt=\"Open In Colab\"/></a>"
      ]
    },
    {
      "cell_type": "code",
      "metadata": {
        "id": "b-W64Uhv2UPc"
      },
      "source": [
        "from zipfile import ZipFile\r\n",
        "f = ZipFile(\"/content/drive/MyDrive/chinese_news_trans.zip\")\r\n",
        "f.extractall()\r\n",
        "\r\n",
        "f = ZipFile(\"/content/drive/MyDrive/chinese_news_test.zip\")\r\n",
        "f.extractall()"
      ],
      "execution_count": 53,
      "outputs": []
    },
    {
      "cell_type": "code",
      "metadata": {
        "id": "W-u0JDOC3qZB"
      },
      "source": [
        "# glob(路近的path) *任意\r\n",
        "import glob\r\n",
        "import os\r\n",
        "import pandas as pd\r\n",
        "\r\n",
        "def process(base):\r\n",
        "  datas = {\r\n",
        "      \"contens\":[],\r\n",
        "      \"ans\":[]\r\n",
        "  }\r\n",
        "  dirs = glob.glob(os.path.join(base, \"*\"))\r\n",
        "  for d in dirs:\r\n",
        "    fns1 = os.path.join(d, \"*.txt\")\r\n",
        "    fns2 = os.path.join(d, \"*.TXT\")\r\n",
        "    fns = glob.glob(fns1) + glob.glob(fns2)\r\n",
        "    for fn in fns:\r\n",
        "      with open(fn, \"r\", encoding=\"utf-8\") as f:\r\n",
        "        datas[\"contens\"].append(f.read())\r\n",
        "      datas[\"ans\"].append(os.path.split(d)[-1])\r\n",
        "  df = pd.DataFrame(datas)\r\n",
        "  return df\r\n",
        "\r\n",
        "train_df = process(\"chinese_news_trans\")\r\n",
        "test_df = process(\"chinese_news_test\")"
      ],
      "execution_count": 67,
      "outputs": []
    },
    {
      "cell_type": "code",
      "metadata": {
        "id": "tv1fZUYmBXrr"
      },
      "source": [
        "u = train_df[\"ans\"].unique()\r\n",
        "name2cat = {name:i for i, name in enumerate(u)}\r\n",
        "cat2name = {i:name for i, name in enumerate(u)}\r\n",
        "\r\n",
        "y_train = train_df[\"ans\"].replace(name2cat)\r\n",
        "y_test = test_df[\"ans\"].replace(name2cat)\r\n",
        "y_train"
      ],
      "execution_count": null,
      "outputs": []
    },
    {
      "cell_type": "code",
      "metadata": {
        "id": "uG1MK1lPDLb3"
      },
      "source": [
        "import jieba\r\n",
        "from urllib.request import urlretrieve\r\n",
        "\r\n",
        "url = \"https://github.com/fxsjy/jieba/raw/master/extra_dict/dict.txt.big\"\r\n",
        "urlretrieve(url, \"dict.txt.big\")\r\n",
        "\r\n",
        "jieba.set_dictionary(\"dict.txt.big\")\r\n",
        "def news(n):\r\n",
        "  return \" \".join(jieba.cut(n))\r\n",
        "x_train = train_df[\"contens\"].apply(news)\r\n",
        "x_test = test_df[\"contens\"].apply(news)\r\n",
        "\r\n",
        "x_test"
      ],
      "execution_count": null,
      "outputs": []
    },
    {
      "cell_type": "code",
      "metadata": {
        "id": "wKjOLRdQD4TM"
      },
      "source": [
        "from sklearn.feature_extraction.text import  CountVectorizer\r\n",
        "vec = CountVectorizer()\r\n",
        "x_train_count = vec.fit_transform(x_train)\r\n",
        "x_test_count = vec.transform(x_test)"
      ],
      "execution_count": 56,
      "outputs": []
    },
    {
      "cell_type": "code",
      "metadata": {
        "id": "pVTPAeWtEEJu"
      },
      "source": [
        "from sklearn.naive_bayes import MultinomialNB\r\n",
        "clf = MultinomialNB(alpha=0.1)\r\n",
        "clf.fit(x_train_count, y_train)"
      ],
      "execution_count": null,
      "outputs": []
    },
    {
      "cell_type": "code",
      "metadata": {
        "id": "bCKck9nlEIbn"
      },
      "source": [
        "from sklearn.metrics import accuracy_score, log_loss\r\n",
        "pre = clf.predict(x_test_count)\r\n",
        "print(accuracy_score(y_test, pre))\r\n",
        "prob = clf.predict_proba(x_test_count)\r\n",
        "print(log_loss(y_test, prob))"
      ],
      "execution_count": null,
      "outputs": []
    },
    {
      "cell_type": "code",
      "metadata": {
        "id": "XO01OP0TEO5r"
      },
      "source": [
        "from sklearn.metrics import confusion_matrix\r\n",
        "mat = confusion_matrix(y_test, pre)\r\n",
        "pd.DataFrame(mat,\r\n",
        "      index=[name + \"(原本)\" for name in u],\r\n",
        "      columns=[name + \"(預測)\" for name in u])"
      ],
      "execution_count": null,
      "outputs": []
    },
    {
      "cell_type": "code",
      "metadata": {
        "id": "MMsKbXrQEVbh"
      },
      "source": [
        "p = input(\"write:\")\r\n",
        "\r\n",
        "test = vec.transform([news(p)])\r\n",
        "prob = clf.predict_proba(test)[0]\r\n",
        "for i in range(len(u)):\r\n",
        "  print(u[i],round(prob[i], 3))"
      ],
      "execution_count": null,
      "outputs": []
    },
    {
      "cell_type": "code",
      "metadata": {
        "colab": {
          "base_uri": "https://localhost:8080/"
        },
        "id": "3TjDfiJ4sHpk",
        "outputId": "d4b0d7ad-8020-4071-b627-07ec8d624efb"
      },
      "source": [
        "!pip install opencc-python-reimplemented"
      ],
      "execution_count": 1,
      "outputs": [
        {
          "output_type": "stream",
          "text": [
            "Collecting opencc-python-reimplemented\n",
            "\u001b[?25l  Downloading https://files.pythonhosted.org/packages/04/aa/02c5ffc87e2bf1da1f476d35aa4de69cad2cfc3140e37114755c454d1231/opencc-python-reimplemented-0.1.6.tar.gz (484kB)\n",
            "\r\u001b[K     |▊                               | 10kB 16.7MB/s eta 0:00:01\r\u001b[K     |█▍                              | 20kB 16.6MB/s eta 0:00:01\r\u001b[K     |██                              | 30kB 10.5MB/s eta 0:00:01\r\u001b[K     |██▊                             | 40kB 8.6MB/s eta 0:00:01\r\u001b[K     |███▍                            | 51kB 7.0MB/s eta 0:00:01\r\u001b[K     |████                            | 61kB 7.3MB/s eta 0:00:01\r\u001b[K     |████▊                           | 71kB 7.2MB/s eta 0:00:01\r\u001b[K     |█████▍                          | 81kB 7.5MB/s eta 0:00:01\r\u001b[K     |██████                          | 92kB 7.8MB/s eta 0:00:01\r\u001b[K     |██████▊                         | 102kB 8.0MB/s eta 0:00:01\r\u001b[K     |███████▍                        | 112kB 8.0MB/s eta 0:00:01\r\u001b[K     |████████▏                       | 122kB 8.0MB/s eta 0:00:01\r\u001b[K     |████████▉                       | 133kB 8.0MB/s eta 0:00:01\r\u001b[K     |█████████▌                      | 143kB 8.0MB/s eta 0:00:01\r\u001b[K     |██████████▏                     | 153kB 8.0MB/s eta 0:00:01\r\u001b[K     |██████████▉                     | 163kB 8.0MB/s eta 0:00:01\r\u001b[K     |███████████▌                    | 174kB 8.0MB/s eta 0:00:01\r\u001b[K     |████████████▏                   | 184kB 8.0MB/s eta 0:00:01\r\u001b[K     |████████████▉                   | 194kB 8.0MB/s eta 0:00:01\r\u001b[K     |█████████████▌                  | 204kB 8.0MB/s eta 0:00:01\r\u001b[K     |██████████████▏                 | 215kB 8.0MB/s eta 0:00:01\r\u001b[K     |██████████████▉                 | 225kB 8.0MB/s eta 0:00:01\r\u001b[K     |███████████████▌                | 235kB 8.0MB/s eta 0:00:01\r\u001b[K     |████████████████▎               | 245kB 8.0MB/s eta 0:00:01\r\u001b[K     |█████████████████               | 256kB 8.0MB/s eta 0:00:01\r\u001b[K     |█████████████████▋              | 266kB 8.0MB/s eta 0:00:01\r\u001b[K     |██████████████████▎             | 276kB 8.0MB/s eta 0:00:01\r\u001b[K     |███████████████████             | 286kB 8.0MB/s eta 0:00:01\r\u001b[K     |███████████████████▋            | 296kB 8.0MB/s eta 0:00:01\r\u001b[K     |████████████████████▎           | 307kB 8.0MB/s eta 0:00:01\r\u001b[K     |█████████████████████           | 317kB 8.0MB/s eta 0:00:01\r\u001b[K     |█████████████████████▋          | 327kB 8.0MB/s eta 0:00:01\r\u001b[K     |██████████████████████▎         | 337kB 8.0MB/s eta 0:00:01\r\u001b[K     |███████████████████████         | 348kB 8.0MB/s eta 0:00:01\r\u001b[K     |███████████████████████▊        | 358kB 8.0MB/s eta 0:00:01\r\u001b[K     |████████████████████████▍       | 368kB 8.0MB/s eta 0:00:01\r\u001b[K     |█████████████████████████       | 378kB 8.0MB/s eta 0:00:01\r\u001b[K     |█████████████████████████▊      | 389kB 8.0MB/s eta 0:00:01\r\u001b[K     |██████████████████████████▍     | 399kB 8.0MB/s eta 0:00:01\r\u001b[K     |███████████████████████████     | 409kB 8.0MB/s eta 0:00:01\r\u001b[K     |███████████████████████████▊    | 419kB 8.0MB/s eta 0:00:01\r\u001b[K     |████████████████████████████▍   | 430kB 8.0MB/s eta 0:00:01\r\u001b[K     |█████████████████████████████   | 440kB 8.0MB/s eta 0:00:01\r\u001b[K     |█████████████████████████████▊  | 450kB 8.0MB/s eta 0:00:01\r\u001b[K     |██████████████████████████████▍ | 460kB 8.0MB/s eta 0:00:01\r\u001b[K     |███████████████████████████████ | 471kB 8.0MB/s eta 0:00:01\r\u001b[K     |███████████████████████████████▉| 481kB 8.0MB/s eta 0:00:01\r\u001b[K     |████████████████████████████████| 491kB 8.0MB/s \n",
            "\u001b[?25hBuilding wheels for collected packages: opencc-python-reimplemented\n",
            "  Building wheel for opencc-python-reimplemented (setup.py) ... \u001b[?25l\u001b[?25hdone\n",
            "  Created wheel for opencc-python-reimplemented: filename=opencc_python_reimplemented-0.1.6-py2.py3-none-any.whl size=486134 sha256=fd24c009395536bdb31febf4f4eb9502b642da5e17a5cf688fa270f939e625de\n",
            "  Stored in directory: /root/.cache/pip/wheels/54/8a/0f/405db0ba3f02d9af8211422d3ae94c47b3296256f168ac1e68\n",
            "Successfully built opencc-python-reimplemented\n",
            "Installing collected packages: opencc-python-reimplemented\n",
            "Successfully installed opencc-python-reimplemented-0.1.6\n"
          ],
          "name": "stdout"
        }
      ]
    },
    {
      "cell_type": "code",
      "metadata": {
        "colab": {
          "base_uri": "https://localhost:8080/",
          "height": 35
        },
        "id": "i0DyB9VTscoN",
        "outputId": "0f8a646b-462e-4b91-bf0e-9ff4f890cca8"
      },
      "source": [
        "from opencc import OpenCC\r\n",
        "cc = OpenCC('s2twp')  # convert from Simplified Chinese to Traditional Chinese\r\n",
        "# can also set conversion by calling set_conversion\r\n",
        "# cc.set_conversion('s2tw')\r\n",
        "to_convert = '开放中文转换'\r\n",
        "converted = cc.convert(to_convert)\r\n",
        "converted"
      ],
      "execution_count": 2,
      "outputs": [
        {
          "output_type": "execute_result",
          "data": {
            "application/vnd.google.colaboratory.intrinsic+json": {
              "type": "string"
            },
            "text/plain": [
              "'開放中文轉換'"
            ]
          },
          "metadata": {
            "tags": []
          },
          "execution_count": 2
        }
      ]
    }
  ]
}